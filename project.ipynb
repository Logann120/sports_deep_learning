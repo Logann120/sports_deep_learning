{
 "cells": [
  {
   "cell_type": "code",
   "execution_count": null,
   "id": "0373c7ff",
   "metadata": {},
   "outputs": [],
   "source": [
    "import io\n",
    "import pandas as pd\n",
    "import numpy as np"
   ]
  },
  {
   "cell_type": "code",
   "execution_count": null,
   "id": "a6a1035f",
   "metadata": {},
   "outputs": [],
   "source": [
    "# Read in the raw data.\n",
    "\n",
    "# First Download dataset from https://www.kaggle.com/datasets/maxhorowitz/nflplaybyplay2009to2016?select=NFL+Play+by+Play+2009-2018+%28v5%29.csv\n",
    "#df = pd.read_csv('NFL Play by Play 2009-2018 (v5).csv', low_memory = False)\n",
    "# A copy data frame to make changes to.\n",
    "dfTrimmed = df.copy()"
   ]
  },
  {
   "cell_type": "code",
   "execution_count": null,
   "id": "0f4e2d90",
   "metadata": {},
   "outputs": [],
   "source": [
    "pd.options.display.max_columns = None\n",
    "pd.options.display.max_rows = None"
   ]
  },
  {
   "cell_type": "code",
   "execution_count": null,
   "id": "3d088d5d",
   "metadata": {},
   "outputs": [],
   "source": [
    "startIndex = dfTrimmed.columns.get_loc('punt_in_endzone')\n",
    "stopIndex = dfTrimmed.columns.get_loc('safety')\n",
    "dfTrimmed.drop(dfTrimmed.iloc[:, startIndex:stopIndex], axis=1, inplace = True)"
   ]
  },
  {
   "cell_type": "code",
   "execution_count": null,
   "id": "a985bc70",
   "metadata": {},
   "outputs": [],
   "source": [
    "startIndex = dfTrimmed.columns.get_loc('assist_tackle')\n",
    "stopIndex = dfTrimmed.columns.get_loc('penalty_team')\n",
    "dfTrimmed.drop(dfTrimmed.iloc[:, startIndex:stopIndex], axis=1, inplace = True)"
   ]
  },
  {
   "cell_type": "code",
   "execution_count": null,
   "id": "b9489225",
   "metadata": {},
   "outputs": [],
   "source": [
    "startIndex = dfTrimmed.columns.get_loc('penalty_player_id')\n",
    "stopIndex = dfTrimmed.columns.get_loc('penalty_yards')\n",
    "dfTrimmed.drop(dfTrimmed.iloc[:, startIndex:stopIndex], axis=1, inplace = True)"
   ]
  },
  {
   "cell_type": "code",
   "execution_count": null,
   "id": "216c0e2c",
   "metadata": {},
   "outputs": [],
   "source": [
    "dfTrimmed.drop(columns='play_id', inplace = True)"
   ]
  },
  {
   "cell_type": "code",
   "execution_count": null,
   "id": "a09cc6b4",
   "metadata": {},
   "outputs": [],
   "source": [
    "startIndex = dfTrimmed.columns.get_loc('posteam_type')\n",
    "stopIndex = dfTrimmed.columns.get_loc('defteam')\n",
    "dfTrimmed.drop(dfTrimmed.iloc[:, startIndex:stopIndex], axis=1, inplace = True)"
   ]
  },
  {
   "cell_type": "code",
   "execution_count": null,
   "id": "364fea3b",
   "metadata": {},
   "outputs": [],
   "source": [
    "startIndex = dfTrimmed.columns.get_loc('quarter_seconds_remaining')\n",
    "stopIndex = dfTrimmed.columns.get_loc('play_type')\n",
    "dfTrimmed.drop(dfTrimmed.iloc[:, startIndex:stopIndex], axis=1, inplace = True)"
   ]
  },
  {
   "cell_type": "code",
   "execution_count": null,
   "id": "ab2cf795",
   "metadata": {},
   "outputs": [],
   "source": [
    "startIndex = dfTrimmed.columns.get_loc('shotgun')\n",
    "stopIndex = dfTrimmed.columns.get_loc('total_home_score')\n",
    "dfTrimmed.drop(dfTrimmed.iloc[:, startIndex:stopIndex], axis=1, inplace = True)"
   ]
  },
  {
   "cell_type": "code",
   "execution_count": null,
   "id": "2822b738",
   "metadata": {},
   "outputs": [],
   "source": [
    "startIndex = dfTrimmed.columns.get_loc('posteam_score')\n",
    "stopIndex = dfTrimmed.columns.get_loc('punt_blocked')\n",
    "dfTrimmed.drop(dfTrimmed.iloc[:, startIndex:stopIndex], axis=1, inplace = True)"
   ]
  },
  {
   "cell_type": "code",
   "execution_count": null,
   "id": "b97aaab4",
   "metadata": {},
   "outputs": [],
   "source": [
    "startIndex = dfTrimmed.columns.get_loc('first_down_rush')\n",
    "stopIndex = dfTrimmed.columns.get_loc('third_down_converted')\n",
    "dfTrimmed.drop(dfTrimmed.iloc[:, startIndex:stopIndex], axis=1, inplace = True)"
   ]
  },
  {
   "cell_type": "code",
   "execution_count": null,
   "id": "261b4af2",
   "metadata": {},
   "outputs": [],
   "source": [
    "startIndex = dfTrimmed.columns.get_loc('third_down_failed')\n",
    "stopIndex = dfTrimmed.columns.get_loc('fourth_down_converted')\n",
    "dfTrimmed.drop(dfTrimmed.iloc[:, startIndex:stopIndex], axis=1, inplace = True)"
   ]
  },
  {
   "cell_type": "code",
   "execution_count": null,
   "id": "c77b9060",
   "metadata": {},
   "outputs": [],
   "source": [
    "startIndex = dfTrimmed.columns.get_loc('fourth_down_failed')\n",
    "stopIndex = dfTrimmed.columns.get_loc('incomplete_pass')\n",
    "dfTrimmed.drop(dfTrimmed.iloc[:, startIndex:stopIndex], axis=1, inplace = True)"
   ]
  },
  {
   "cell_type": "code",
   "execution_count": null,
   "id": "956b994e",
   "metadata": {},
   "outputs": [],
   "source": [
    "startIndex = dfTrimmed.columns.get_loc('safety')\n",
    "stopIndex = dfTrimmed.columns.get_loc('own_kickoff_recovery')\n",
    "dfTrimmed.drop(dfTrimmed.iloc[:, startIndex:stopIndex], axis=1, inplace = True)"
   ]
  },
  {
   "cell_type": "code",
   "execution_count": null,
   "id": "67f0c588",
   "metadata": {},
   "outputs": [],
   "source": [
    "startIndex = dfTrimmed.columns.get_loc('own_kickoff_recovery_td')\n",
    "stopIndex = dfTrimmed.columns.get_loc('qb_hit')\n",
    "dfTrimmed.drop(dfTrimmed.iloc[:, startIndex:stopIndex], axis=1, inplace = True)"
   ]
  },
  {
   "cell_type": "code",
   "execution_count": null,
   "id": "73b1eb1d",
   "metadata": {},
   "outputs": [],
   "source": [
    "startIndex = dfTrimmed.columns.get_loc('pass_attempt')\n",
    "stopIndex = dfTrimmed.columns.get_loc('sack')\n",
    "dfTrimmed.drop(dfTrimmed.iloc[:, startIndex:stopIndex], axis=1, inplace = True)"
   ]
  },
  {
   "cell_type": "code",
   "execution_count": null,
   "id": "29a159b7",
   "metadata": {},
   "outputs": [],
   "source": [
    "startIndex = dfTrimmed.columns.get_loc('touchdown')\n",
    "stopIndex = dfTrimmed.columns.get_loc('complete_pass')\n",
    "dfTrimmed.drop(dfTrimmed.iloc[:, startIndex:stopIndex], axis=1, inplace = True)"
   ]
  },
  {
   "cell_type": "code",
   "execution_count": null,
   "id": "fbb350af",
   "metadata": {},
   "outputs": [],
   "source": [
    "startIndex = dfTrimmed.columns.get_loc('replay_or_challenge')\n",
    "dfTrimmed.drop(dfTrimmed.iloc[:, startIndex:], axis=1, inplace = True)\n",
    "dfTrimmed.head()"
   ]
  },
  {
   "cell_type": "code",
   "execution_count": null,
   "id": "0e04e9fc",
   "metadata": {},
   "outputs": [],
   "source": [
    "startIndex = dfTrimmed.columns.get_loc('side_of_field')\n",
    "stopIndex = dfTrimmed.columns.get_loc('yards_gained')\n",
    "dfTrimmed.drop(dfTrimmed.iloc[:, startIndex:stopIndex], axis=1, inplace = True)"
   ]
  },
  {
   "cell_type": "code",
   "execution_count": null,
   "id": "f3e720e9",
   "metadata": {},
   "outputs": [],
   "source": [
    "# Once again a new data frame is created to make changes on the data. This time the changes\n",
    "# will be performed mostly on the rows. \n",
    "newdf = pd.DataFrame(columns=dfTrimmed.columns)\n",
    "# Create a column to store only unique game ids. We want one row per game.\n",
    "newdf.game_id = np.unique(dfTrimmed.game_id)"
   ]
  },
  {
   "cell_type": "code",
   "execution_count": null,
   "id": "df5653f1",
   "metadata": {},
   "outputs": [],
   "source": [
    "# The attribute for each of the following 6 columns of data (for the first \n",
    "# instance of each unique game id) will be copied to the new data frame. \n",
    "# Home and away scores are set to the maximum value of each column respectively.\n",
    "ids = newdf.game_id\n",
    "homeTeam = list() # Current home team\n",
    "awayTeam = list() # Current away team\n",
    "posessionTeam = list() # Current team in possesion \n",
    "defensiveTeam = list() # Current defensive team\n",
    "homeScore = list() # Final score of home team\n",
    "awayScore = list() # Final score of away team\n",
    "\n",
    "for i in ids:\n",
    "    homeTeam.append(dfTrimmed[dfTrimmed.game_id == i].reset_index().home_team[0])\n",
    "    awayTeam.append(dfTrimmed[dfTrimmed.game_id == i].reset_index().away_team[0])\n",
    "    posessionTeam.append(dfTrimmed[dfTrimmed.game_id == i].reset_index().posteam[0])\n",
    "    defensiveTeam.append(dfTrimmed[dfTrimmed.game_id == i].reset_index().defteam[0])\n",
    "    homeScore.append(max(dfTrimmed[dfTrimmed.game_id == i].total_home_score))\n",
    "    awayScore.append(max(dfTrimmed[dfTrimmed.game_id == i].total_away_score))\n",
    "    \n",
    "newdf.home_team = homeTeam\n",
    "newdf.away_team = awayTeam\n",
    "newdf.posteam = posessionTeam\n",
    "newdf.defteam = defensiveTeam\n",
    "newdf.total_home_score = homeScore\n",
    "newdf.total_away_score = awayScore\n",
    "newdf.head()"
   ]
  },
  {
   "cell_type": "code",
   "execution_count": null,
   "id": "223ce825",
   "metadata": {},
   "outputs": [],
   "source": [
    "# The following attributes require a summation over the entire column for each unique game. \n",
    "# Each of the corresponding columns are summed over and a distinction is made between each of the\n",
    "# two teams in each game. The same process takes place in the next cell.\n",
    "\n",
    "home4th = list() # Total 4th down conversions for home team\n",
    "away4th = list() # Total 4th down conversions for away team \n",
    "homeInt = list() # Total interceptions thrown by home team\n",
    "awayInt = list() # Total interceptions thrown by away team\n",
    "homeOKO = list() # Own kickoff recoveries for home team\n",
    "awayOKO = list() # Own kickoff recoveries for away team\n",
    "homeS = list() # Defensive sacks for the home team (Defensive stat)\n",
    "awayS = list() # Defensive sacks for the away team (Defensive stat)\n",
    "homePyrds = list() # Penalty yards accumulated by the home team\n",
    "awayPyrds = list() # Penalty yeards accumulated by the away team\n",
    "homeBlocked = list() # Defensive blocked punts for the home team (Defensive stat)\n",
    "awayBlocked = list()  # Defensive blocked punts for the away team (Defensive stat)\n",
    "for i in ids:\n",
    "    teams = list()\n",
    "    teams.append(dfTrimmed[dfTrimmed.game_id == i].reset_index().home_team[0])\n",
    "    teams.append(dfTrimmed[dfTrimmed.game_id == i].reset_index().away_team[0])\n",
    "\n",
    "    count = 0\n",
    "    for team in teams:\n",
    "        if count == 0:\n",
    "            \n",
    "            home4th.append(sum(dfTrimmed[(dfTrimmed.game_id == i) & \n",
    "                                         (dfTrimmed.posteam == team)].fourth_down_converted))\n",
    "            homeInt.append(sum(dfTrimmed[(dfTrimmed.game_id == i) & \n",
    "                                         (dfTrimmed.posteam == team)].interception))\n",
    "            homeOKO.append(sum(dfTrimmed[(dfTrimmed.game_id == i) & \n",
    "                                         (dfTrimmed.posteam == team)].own_kickoff_recovery))\n",
    "            homeS.append(sum(dfTrimmed[(dfTrimmed.game_id == i) & \n",
    "                                         (dfTrimmed.defteam == team)].sack))\n",
    "            homePyrds.append(sum(dfTrimmed[(dfTrimmed.game_id == i) & \n",
    "                                         (dfTrimmed.penalty_team == team)].penalty_yards.fillna(0)))\n",
    "            homeBlocked.append(sum(dfTrimmed[(dfTrimmed.game_id == i) & \n",
    "                                         (dfTrimmed.defteam == team)].punt_blocked))\n",
    "\n",
    "        else:\n",
    "            away4th.append(sum(dfTrimmed[(dfTrimmed.game_id == i) & \n",
    "                                         (dfTrimmed.posteam == team)].fourth_down_converted))\n",
    "            awayInt.append(sum(dfTrimmed[(dfTrimmed.game_id == i) & \n",
    "                                         (dfTrimmed.posteam == team)].interception))\n",
    "            awayOKO.append(sum(dfTrimmed[(dfTrimmed.game_id == i) & \n",
    "                                         (dfTrimmed.posteam == team)].own_kickoff_recovery))\n",
    "            awayS.append(sum(dfTrimmed[(dfTrimmed.game_id == i) & \n",
    "                                         (dfTrimmed.defteam == team)].sack))\n",
    "            awayPyrds.append(sum(dfTrimmed[(dfTrimmed.game_id == i) & \n",
    "                                         (dfTrimmed.penalty_team == team)].penalty_yards.fillna(0)))\n",
    "            awayBlocked.append(sum(dfTrimmed[(dfTrimmed.game_id == i) & \n",
    "                                         (dfTrimmed.defteam == team)].punt_blocked))\n",
    "        count+=1\n",
    "                                                    \n",
    "newdf.fourth_down_converted = home4th\n",
    "newdf['fourth_down_converted_away'] = away4th\n",
    "newdf.interception = homeInt\n",
    "newdf['interception_away'] = awayInt\n",
    "newdf.own_kickoff_recovery = homeOKO\n",
    "newdf['own_kickoff_recovery_away'] = awayOKO\n",
    "newdf.sack = homeS\n",
    "newdf['sack_away'] = awayS\n",
    "newdf.penalty_yards = homePyrds\n",
    "newdf['penalty_yards_away'] = awayPyrds\n",
    "newdf.punt_blocked = homeBlocked\n",
    "newdf['punt_blocked_away'] = awayBlocked  \n",
    "newdf.head()"
   ]
  },
  {
   "cell_type": "code",
   "execution_count": null,
   "id": "5a2a0b4d",
   "metadata": {},
   "outputs": [],
   "source": [
    "homePI20 = list() # Punts inside the 20 for the home team\n",
    "awayPI20 = list() # Punts inside the 20 for the away team\n",
    "homeTotalYards = list() # Home team total yards\n",
    "awayTotalYards = list() # Away team total yards\n",
    "homeCompPercentage = list() # Home team QB pass completion percentage\n",
    "awayCompPercentage = list() # Away team QB pass completion percentage\n",
    "homeRushAttempts = list() # Number of rushing attempts for the home team\n",
    "awayRushAttempts = list() # Number of rushing attempts for the away team\n",
    "homeQBhit = list() # QB hits for the home team (Defensive stat)\n",
    "awayQBhit = list() # QB hits for the away team (Defensive stat)\n",
    "home3rd = list() # Total 3rd down conversions for home team\n",
    "away3rd = list() # Total 3rd down conversions for away team\n",
    "\n",
    "for i in ids:\n",
    "    teams = list()\n",
    "    teams.append(dfTrimmed[dfTrimmed.game_id == i].reset_index().home_team[0])\n",
    "    teams.append(dfTrimmed[dfTrimmed.game_id == i].reset_index().away_team[0])\n",
    "\n",
    "    count = 0\n",
    "    for team in teams:\n",
    "        if count == 0:\n",
    "            homePI20.append(sum(dfTrimmed[(dfTrimmed.game_id == i) & \n",
    "                                         (dfTrimmed.posteam == team)].punt_inside_twenty.fillna(0)))\n",
    "            homeTotalYards.append(sum(dfTrimmed[(dfTrimmed.game_id == i) & \n",
    "                                         (dfTrimmed.posteam == team)].yards_gained.fillna(0)))\n",
    "            homeCompPercentage.append(sum(dfTrimmed[(dfTrimmed.game_id == i) & \n",
    "                                         (dfTrimmed.posteam == team)].complete_pass.fillna(0)) /\n",
    "                                     (sum(dfTrimmed[(dfTrimmed.game_id == i) & \n",
    "                                         (dfTrimmed.posteam == team)].incomplete_pass.fillna(0)) +\n",
    "                                      sum(dfTrimmed[(dfTrimmed.game_id == i) & \n",
    "                                         (dfTrimmed.posteam == team)].complete_pass.fillna(0))))\n",
    "            homeRushAttempts.append(sum(dfTrimmed[(dfTrimmed.game_id == i) & \n",
    "                                         (dfTrimmed.posteam == team)].rush_attempt.fillna(0)))\n",
    "            homeQBhit.append(sum(dfTrimmed[(dfTrimmed.game_id == i) & \n",
    "                                         (dfTrimmed.defteam == team)].qb_hit))\n",
    "            home3rd.append(sum(dfTrimmed[(dfTrimmed.game_id == i) & \n",
    "                                         (dfTrimmed.posteam == team)].third_down_converted))\n",
    "        else:\n",
    "            awayPI20.append(sum(dfTrimmed[(dfTrimmed.game_id == i) & \n",
    "                                         (dfTrimmed.posteam == team)].punt_inside_twenty.fillna(0)))\n",
    "            awayTotalYards.append(sum(dfTrimmed[(dfTrimmed.game_id == i) & \n",
    "                                         (dfTrimmed.posteam == team)].yards_gained.fillna(0)))\n",
    "            awayCompPercentage.append(sum(dfTrimmed[(dfTrimmed.game_id == i) & \n",
    "                                         (dfTrimmed.posteam == team)].complete_pass.fillna(0)) /\n",
    "                                     (sum(dfTrimmed[(dfTrimmed.game_id == i) & \n",
    "                                         (dfTrimmed.posteam == team)].incomplete_pass.fillna(0)) +\n",
    "                                      sum(dfTrimmed[(dfTrimmed.game_id == i) & \n",
    "                                         (dfTrimmed.posteam == team)].complete_pass.fillna(0))))\n",
    "            awayRushAttempts.append(sum(dfTrimmed[(dfTrimmed.game_id == i) & \n",
    "                                         (dfTrimmed.posteam == team)].rush_attempt.fillna(0)))\n",
    "            awayQBhit.append(sum(dfTrimmed[(dfTrimmed.game_id == i) & \n",
    "                                         (dfTrimmed.defteam == team)].qb_hit))\n",
    "            away3rd.append(sum(dfTrimmed[(dfTrimmed.game_id == i) & \n",
    "                                         (dfTrimmed.posteam == team)].third_down_converted))\n",
    "        count+=1\n",
    "                                  \n",
    "newdf.punt_inside_twenty = homePI20\n",
    "newdf['punt_inside_twenty_away'] = awayPI20\n",
    "newdf.yards_gained = homeTotalYards\n",
    "newdf['yards_gained_away'] = awayTotalYards\n",
    "newdf['Pass_comp_percentage'] = homeCompPercentage\n",
    "newdf['Pass_comp_percentage_away'] = awayCompPercentage\n",
    "newdf.rush_attempt = homeRushAttempts\n",
    "newdf['rush_attempt_away'] = awayRushAttempts\n",
    "newdf.qb_hit = homeQBhit\n",
    "newdf['qb_hit_away'] = awayQBhit\n",
    "newdf.third_down_converted = home3rd\n",
    "newdf['third_down_converted_away'] = away3rd"
   ]
  },
  {
   "cell_type": "code",
   "execution_count": null,
   "id": "880d5924",
   "metadata": {},
   "outputs": [],
   "source": [
    "newdf.drop(columns=['incomplete_pass', 'complete_pass', 'penalty_team'], inplace=True)\n",
    "newdf.head()"
   ]
  },
  {
   "cell_type": "code",
   "execution_count": null,
   "id": "8bb624bc",
   "metadata": {},
   "outputs": [],
   "source": [
    "newdf.to_csv('newData.csv')"
   ]
  }
 ],
 "metadata": {
  "kernelspec": {
   "display_name": "Python 3.10.4 ('tensorflow')",
   "language": "python",
   "name": "python3"
  },
  "language_info": {
   "codemirror_mode": {
    "name": "ipython",
    "version": 3
   },
   "file_extension": ".py",
   "mimetype": "text/x-python",
   "name": "python",
   "nbconvert_exporter": "python",
   "pygments_lexer": "ipython3",
   "version": "3.10.4"
  },
  "vscode": {
   "interpreter": {
    "hash": "8db45bb5f299d65e64b609bd5b49ed00a0c39035b13f03eb9cc2c5035708e4ab"
   }
  }
 },
 "nbformat": 4,
 "nbformat_minor": 5
}
